{
 "cells": [
  {
   "cell_type": "code",
   "execution_count": 1,
   "metadata": {},
   "outputs": [
    {
     "name": "stdout",
     "output_type": "stream",
     "text": [
      "標題：NBA總冠軍列表- 維基百科，自由的百科全書 - Wikipediazh.wikipedia.org › zh-hant › NBA總冠軍列表\n",
      "網址：/url?q=https://zh.wikipedia.org/zh-hant/NBA%25E7%25B8%25BD%25E5%2586%25A0%25E8%25BB%258D%25E5%2588%2597%25E8%25A1%25A8&sa=U&ved=2ahUKEwif-f-rlMXsAhWMv5QKHceoByQQFjAAegQIDBAB&usg=AOvVaw3l_0YOolgOnZq4PsxTJHMS\n",
      "標題：List of NBA champions - Wikipediaen.wikipedia.org › wiki › List_of_NBA_champions\n",
      "網址：/url?q=https://en.wikipedia.org/wiki/List_of_NBA_champions&sa=U&ved=2ahUKEwif-f-rlMXsAhWMv5QKHceoByQQFjABegQIBBAB&usg=AOvVaw3c1aqtMwll5EeSS8OBrs8v\n",
      "標題：NBA總冠軍列表- 维基百科，自由的百科全书zh.wikipedia.org › wiki › List_of_NBA_champions\n",
      "網址：/url?q=https://zh.wikipedia.org/wiki/List_of_NBA_champions&sa=U&ved=2ahUKEwif-f-rlMXsAhWMv5QKHceoByQQFjARegQIAxAB&usg=AOvVaw2AtcQLsHrPFJXSORYwk1Ec\n",
      "標題：NBA & ABA Champions | Basketball-Reference.comwww.basketball-reference.com › playoffs\n",
      "網址：/url?q=https://www.basketball-reference.com/playoffs/&sa=U&ved=2ahUKEwif-f-rlMXsAhWMv5QKHceoByQQFjAaegQICBAB&usg=AOvVaw15e4XR1y7_-bGkMAoE4nx_\n",
      "標題：NBA Championships: Year by Year Championswww.landofbasketball.com › championships › year_by_year\n",
      "網址：/url?q=https://www.landofbasketball.com/championships/year_by_year.htm&sa=U&ved=2ahUKEwif-f-rlMXsAhWMv5QKHceoByQQFjAbegQIChAB&usg=AOvVaw2ts-aEmwEfiTISk1IvtA41\n",
      "標題：NBA Finals Champions | TicketCity Insider - The TicketCity Blogblog.ticketcity.com › nba › nba-finals-champions\n",
      "網址：/url?q=https://blog.ticketcity.com/nba/nba-finals-champions/&sa=U&ved=2ahUKEwif-f-rlMXsAhWMv5QKHceoByQQFjAcegQIDRAB&usg=AOvVaw3kSRfbQWvykm1WoSqk9S0_\n",
      "標題：\"We Use it Against Him\": Former NBA Champion Unimpressed by ...www.essentiallysports.com › Basketball › NBA\n",
      "網址：/url?q=https://www.essentiallysports.com/nba-news-basketball-richard-jefferson-we-use-it-against-him-former-nba-champion-unimpressed-by-criticism-of-lebron-james-finals-record/&sa=U&ved=2ahUKEwif-f-rlMXsAhWMv5QKHceoByQQFjAhegQIAhAB&usg=AOvVaw06kPNLOtylZ_OUmen9x2lv\n",
      "標題：Championships | Boston Celtics - NBA.comwww.nba.com › celtics › history › championships\n",
      "網址：/url?q=https://www.nba.com/celtics/history/championships&sa=U&ved=2ahUKEwif-f-rlMXsAhWMv5QKHceoByQQFjAiegQICRAB&usg=AOvVaw0bDvSSuVpo0RqsZHasq5Fo\n",
      "標題：List of NBA champions | Basketball Wiki | Fandombasketball.fandom.com › wiki › List_of_NBA_champions\n",
      "網址：/url?q=https://basketball.fandom.com/wiki/List_of_NBA_champions&sa=U&ved=2ahUKEwif-f-rlMXsAhWMv5QKHceoByQQFjAjegQIBxAB&usg=AOvVaw3umUk5P5z26YqfU440xhMt\n",
      "標題：Lakers! What winning the NBA championship meant to each Laker ...www.latimes.com › sports › newsletter › what-winning-the-nba-champions...\n",
      "網址：/url?q=https://www.latimes.com/sports/newsletter/2020-10-16/what-winning-the-nba-championship-meant-to-each-laker-lakers&sa=U&ved=2ahUKEwif-f-rlMXsAhWMv5QKHceoByQQFjAkegQIBhAB&usg=AOvVaw0H2h7fCTcB-jIGL4ytBHNa\n"
     ]
    }
   ],
   "source": [
    "import requests\n",
    "from bs4 import BeautifulSoup\n",
    "\n",
    "google_url = 'https://www.google.com.tw/search'\n",
    "\n",
    "my_params = {'q': 'nba champion'}\n",
    "\n",
    "r = requests.get(google_url, params = my_params)\n",
    "\n",
    "if r.status_code == requests.codes.ok:\n",
    "  soup = BeautifulSoup(r.text, 'html.parser')\n",
    "  \n",
    "  items = soup.select('div.kCrYT > a[href^=\"/url\"]')\n",
    " \n",
    "  for i in items:\n",
    "    print(\"標題：\" + i.text)\n",
    "    print(\"網址：\" + i.get('href'))"
   ]
  },
  {
   "cell_type": "code",
   "execution_count": null,
   "metadata": {},
   "outputs": [],
   "source": []
  }
 ],
 "metadata": {
  "kernelspec": {
   "display_name": "Python 3",
   "language": "python",
   "name": "python3"
  },
  "language_info": {
   "codemirror_mode": {
    "name": "ipython",
    "version": 3
   },
   "file_extension": ".py",
   "mimetype": "text/x-python",
   "name": "python",
   "nbconvert_exporter": "python",
   "pygments_lexer": "ipython3",
   "version": "3.8.3"
  }
 },
 "nbformat": 4,
 "nbformat_minor": 4
}
